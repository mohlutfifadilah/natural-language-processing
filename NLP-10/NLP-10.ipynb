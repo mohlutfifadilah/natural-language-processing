{
 "cells": [
  {
   "cell_type": "code",
   "execution_count": 1,
   "id": "0213f87d",
   "metadata": {},
   "outputs": [],
   "source": [
    "# import modul\n",
    "import pandas as pd\n",
    "import numpy as np\n",
    "import re\n",
    "import re as reg\n",
    "import matplotlib.pyplot as plt\n",
    "%matplotlib inline"
   ]
  },
  {
   "cell_type": "code",
   "execution_count": 2,
   "id": "256f0024",
   "metadata": {},
   "outputs": [
    {
     "data": {
      "text/html": [
       "<div>\n",
       "<style scoped>\n",
       "    .dataframe tbody tr th:only-of-type {\n",
       "        vertical-align: middle;\n",
       "    }\n",
       "\n",
       "    .dataframe tbody tr th {\n",
       "        vertical-align: top;\n",
       "    }\n",
       "\n",
       "    .dataframe thead th {\n",
       "        text-align: right;\n",
       "    }\n",
       "</style>\n",
       "<table border=\"1\" class=\"dataframe\">\n",
       "  <thead>\n",
       "    <tr style=\"text-align: right;\">\n",
       "      <th></th>\n",
       "      <th>Review</th>\n",
       "      <th>Positif</th>\n",
       "      <th>Negatif</th>\n",
       "    </tr>\n",
       "  </thead>\n",
       "  <tbody>\n",
       "    <tr>\n",
       "      <th>0</th>\n",
       "      <td>bismilah tadi sana pas masuk suru cuci tangan ...</td>\n",
       "      <td>1</td>\n",
       "      <td>0</td>\n",
       "    </tr>\n",
       "    <tr>\n",
       "      <th>1</th>\n",
       "      <td>walaupun ulang kali sini semenjak kecil rasa b...</td>\n",
       "      <td>1</td>\n",
       "      <td>0</td>\n",
       "    </tr>\n",
       "    <tr>\n",
       "      <th>2</th>\n",
       "      <td>suasanan malam hari lokawisata baturaden nih s...</td>\n",
       "      <td>1</td>\n",
       "      <td>0</td>\n",
       "    </tr>\n",
       "    <tr>\n",
       "      <th>3</th>\n",
       "      <td>tempat sangat bersih rapih butuh stamina utama...</td>\n",
       "      <td>1</td>\n",
       "      <td>0</td>\n",
       "    </tr>\n",
       "    <tr>\n",
       "      <th>4</th>\n",
       "      <td>masa lebaran tiket masuk mahal rb sangat ramai...</td>\n",
       "      <td>0</td>\n",
       "      <td>-1</td>\n",
       "    </tr>\n",
       "    <tr>\n",
       "      <th>...</th>\n",
       "      <td>...</td>\n",
       "      <td>...</td>\n",
       "      <td>...</td>\n",
       "    </tr>\n",
       "    <tr>\n",
       "      <th>284</th>\n",
       "      <td>paket komplit murah riah cocok acara keluarga</td>\n",
       "      <td>1</td>\n",
       "      <td>0</td>\n",
       "    </tr>\n",
       "    <tr>\n",
       "      <th>285</th>\n",
       "      <td>lokasi nyaman aman banyak tempat berswaphoto b...</td>\n",
       "      <td>1</td>\n",
       "      <td>0</td>\n",
       "    </tr>\n",
       "    <tr>\n",
       "      <th>286</th>\n",
       "      <td>tempat bagus sejuk mandi air dingin hangat fla...</td>\n",
       "      <td>1</td>\n",
       "      <td>0</td>\n",
       "    </tr>\n",
       "    <tr>\n",
       "      <th>287</th>\n",
       "      <td>view bagus tiket murah renang fre</td>\n",
       "      <td>1</td>\n",
       "      <td>0</td>\n",
       "    </tr>\n",
       "    <tr>\n",
       "      <th>288</th>\n",
       "      <td>neng banget kesini suasana alam banget bukit s...</td>\n",
       "      <td>1</td>\n",
       "      <td>0</td>\n",
       "    </tr>\n",
       "  </tbody>\n",
       "</table>\n",
       "<p>289 rows × 3 columns</p>\n",
       "</div>"
      ],
      "text/plain": [
       "                                                Review  Positif  Negatif\n",
       "0    bismilah tadi sana pas masuk suru cuci tangan ...        1        0\n",
       "1    walaupun ulang kali sini semenjak kecil rasa b...        1        0\n",
       "2    suasanan malam hari lokawisata baturaden nih s...        1        0\n",
       "3    tempat sangat bersih rapih butuh stamina utama...        1        0\n",
       "4    masa lebaran tiket masuk mahal rb sangat ramai...        0       -1\n",
       "..                                                 ...      ...      ...\n",
       "284      paket komplit murah riah cocok acara keluarga        1        0\n",
       "285  lokasi nyaman aman banyak tempat berswaphoto b...        1        0\n",
       "286  tempat bagus sejuk mandi air dingin hangat fla...        1        0\n",
       "287                  view bagus tiket murah renang fre        1        0\n",
       "288  neng banget kesini suasana alam banget bukit s...        1        0\n",
       "\n",
       "[289 rows x 3 columns]"
      ]
     },
     "execution_count": 2,
     "metadata": {},
     "output_type": "execute_result"
    }
   ],
   "source": [
    "dt = pd.read_excel('output_labelling.xlsx')\n",
    "dt"
   ]
  },
  {
   "cell_type": "code",
   "execution_count": 3,
   "id": "6e9f03f1",
   "metadata": {},
   "outputs": [
    {
     "data": {
      "text/html": [
       "<div>\n",
       "<style scoped>\n",
       "    .dataframe tbody tr th:only-of-type {\n",
       "        vertical-align: middle;\n",
       "    }\n",
       "\n",
       "    .dataframe tbody tr th {\n",
       "        vertical-align: top;\n",
       "    }\n",
       "\n",
       "    .dataframe thead th {\n",
       "        text-align: right;\n",
       "    }\n",
       "</style>\n",
       "<table border=\"1\" class=\"dataframe\">\n",
       "  <thead>\n",
       "    <tr style=\"text-align: right;\">\n",
       "      <th></th>\n",
       "      <th>Review</th>\n",
       "      <th>Positif</th>\n",
       "      <th>Negatif</th>\n",
       "      <th>label</th>\n",
       "    </tr>\n",
       "  </thead>\n",
       "  <tbody>\n",
       "    <tr>\n",
       "      <th>0</th>\n",
       "      <td>bismilah tadi sana pas masuk suru cuci tangan ...</td>\n",
       "      <td>1</td>\n",
       "      <td>0</td>\n",
       "      <td></td>\n",
       "    </tr>\n",
       "    <tr>\n",
       "      <th>1</th>\n",
       "      <td>walaupun ulang kali sini semenjak kecil rasa b...</td>\n",
       "      <td>1</td>\n",
       "      <td>0</td>\n",
       "      <td></td>\n",
       "    </tr>\n",
       "    <tr>\n",
       "      <th>2</th>\n",
       "      <td>suasanan malam hari lokawisata baturaden nih s...</td>\n",
       "      <td>1</td>\n",
       "      <td>0</td>\n",
       "      <td></td>\n",
       "    </tr>\n",
       "    <tr>\n",
       "      <th>3</th>\n",
       "      <td>tempat sangat bersih rapih butuh stamina utama...</td>\n",
       "      <td>1</td>\n",
       "      <td>0</td>\n",
       "      <td></td>\n",
       "    </tr>\n",
       "    <tr>\n",
       "      <th>4</th>\n",
       "      <td>masa lebaran tiket masuk mahal rb sangat ramai...</td>\n",
       "      <td>0</td>\n",
       "      <td>-1</td>\n",
       "      <td></td>\n",
       "    </tr>\n",
       "    <tr>\n",
       "      <th>...</th>\n",
       "      <td>...</td>\n",
       "      <td>...</td>\n",
       "      <td>...</td>\n",
       "      <td>...</td>\n",
       "    </tr>\n",
       "    <tr>\n",
       "      <th>284</th>\n",
       "      <td>paket komplit murah riah cocok acara keluarga</td>\n",
       "      <td>1</td>\n",
       "      <td>0</td>\n",
       "      <td></td>\n",
       "    </tr>\n",
       "    <tr>\n",
       "      <th>285</th>\n",
       "      <td>lokasi nyaman aman banyak tempat berswaphoto b...</td>\n",
       "      <td>1</td>\n",
       "      <td>0</td>\n",
       "      <td></td>\n",
       "    </tr>\n",
       "    <tr>\n",
       "      <th>286</th>\n",
       "      <td>tempat bagus sejuk mandi air dingin hangat fla...</td>\n",
       "      <td>1</td>\n",
       "      <td>0</td>\n",
       "      <td></td>\n",
       "    </tr>\n",
       "    <tr>\n",
       "      <th>287</th>\n",
       "      <td>view bagus tiket murah renang fre</td>\n",
       "      <td>1</td>\n",
       "      <td>0</td>\n",
       "      <td></td>\n",
       "    </tr>\n",
       "    <tr>\n",
       "      <th>288</th>\n",
       "      <td>neng banget kesini suasana alam banget bukit s...</td>\n",
       "      <td>1</td>\n",
       "      <td>0</td>\n",
       "      <td></td>\n",
       "    </tr>\n",
       "  </tbody>\n",
       "</table>\n",
       "<p>289 rows × 4 columns</p>\n",
       "</div>"
      ],
      "text/plain": [
       "                                                Review  Positif  Negatif label\n",
       "0    bismilah tadi sana pas masuk suru cuci tangan ...        1        0      \n",
       "1    walaupun ulang kali sini semenjak kecil rasa b...        1        0      \n",
       "2    suasanan malam hari lokawisata baturaden nih s...        1        0      \n",
       "3    tempat sangat bersih rapih butuh stamina utama...        1        0      \n",
       "4    masa lebaran tiket masuk mahal rb sangat ramai...        0       -1      \n",
       "..                                                 ...      ...      ...   ...\n",
       "284      paket komplit murah riah cocok acara keluarga        1        0      \n",
       "285  lokasi nyaman aman banyak tempat berswaphoto b...        1        0      \n",
       "286  tempat bagus sejuk mandi air dingin hangat fla...        1        0      \n",
       "287                  view bagus tiket murah renang fre        1        0      \n",
       "288  neng banget kesini suasana alam banget bukit s...        1        0      \n",
       "\n",
       "[289 rows x 4 columns]"
      ]
     },
     "execution_count": 3,
     "metadata": {},
     "output_type": "execute_result"
    }
   ],
   "source": [
    "dt['label'] = ''\n",
    "dt"
   ]
  },
  {
   "cell_type": "code",
   "execution_count": 4,
   "id": "8e5e6d23",
   "metadata": {
    "scrolled": true
   },
   "outputs": [],
   "source": [
    "#pindahkan isi label positif dan negarif ke kolom label\n",
    "for i in dt.index:\n",
    "    if dt.at[i,'Positif']==1:\n",
    "        dt.at[i,'label']=1\n",
    "    if dt.at[i,'Negatif']==-1:\n",
    "        dt.at[i,'label']=-1\n",
    "    if ((dt.at[i,'Negatif']==0) and (dt.at[i,'Positif']==0)):\n",
    "        dt.at[i,'label']=0"
   ]
  },
  {
   "cell_type": "code",
   "execution_count": 5,
   "id": "fb59c2c6",
   "metadata": {},
   "outputs": [
    {
     "data": {
      "text/html": [
       "<div>\n",
       "<style scoped>\n",
       "    .dataframe tbody tr th:only-of-type {\n",
       "        vertical-align: middle;\n",
       "    }\n",
       "\n",
       "    .dataframe tbody tr th {\n",
       "        vertical-align: top;\n",
       "    }\n",
       "\n",
       "    .dataframe thead th {\n",
       "        text-align: right;\n",
       "    }\n",
       "</style>\n",
       "<table border=\"1\" class=\"dataframe\">\n",
       "  <thead>\n",
       "    <tr style=\"text-align: right;\">\n",
       "      <th></th>\n",
       "      <th>Review</th>\n",
       "      <th>Positif</th>\n",
       "      <th>Negatif</th>\n",
       "      <th>label</th>\n",
       "    </tr>\n",
       "  </thead>\n",
       "  <tbody>\n",
       "    <tr>\n",
       "      <th>0</th>\n",
       "      <td>bismilah tadi sana pas masuk suru cuci tangan ...</td>\n",
       "      <td>1</td>\n",
       "      <td>0</td>\n",
       "      <td>1</td>\n",
       "    </tr>\n",
       "    <tr>\n",
       "      <th>1</th>\n",
       "      <td>walaupun ulang kali sini semenjak kecil rasa b...</td>\n",
       "      <td>1</td>\n",
       "      <td>0</td>\n",
       "      <td>1</td>\n",
       "    </tr>\n",
       "    <tr>\n",
       "      <th>2</th>\n",
       "      <td>suasanan malam hari lokawisata baturaden nih s...</td>\n",
       "      <td>1</td>\n",
       "      <td>0</td>\n",
       "      <td>1</td>\n",
       "    </tr>\n",
       "    <tr>\n",
       "      <th>3</th>\n",
       "      <td>tempat sangat bersih rapih butuh stamina utama...</td>\n",
       "      <td>1</td>\n",
       "      <td>0</td>\n",
       "      <td>1</td>\n",
       "    </tr>\n",
       "    <tr>\n",
       "      <th>4</th>\n",
       "      <td>masa lebaran tiket masuk mahal rb sangat ramai...</td>\n",
       "      <td>0</td>\n",
       "      <td>-1</td>\n",
       "      <td>-1</td>\n",
       "    </tr>\n",
       "    <tr>\n",
       "      <th>...</th>\n",
       "      <td>...</td>\n",
       "      <td>...</td>\n",
       "      <td>...</td>\n",
       "      <td>...</td>\n",
       "    </tr>\n",
       "    <tr>\n",
       "      <th>284</th>\n",
       "      <td>paket komplit murah riah cocok acara keluarga</td>\n",
       "      <td>1</td>\n",
       "      <td>0</td>\n",
       "      <td>1</td>\n",
       "    </tr>\n",
       "    <tr>\n",
       "      <th>285</th>\n",
       "      <td>lokasi nyaman aman banyak tempat berswaphoto b...</td>\n",
       "      <td>1</td>\n",
       "      <td>0</td>\n",
       "      <td>1</td>\n",
       "    </tr>\n",
       "    <tr>\n",
       "      <th>286</th>\n",
       "      <td>tempat bagus sejuk mandi air dingin hangat fla...</td>\n",
       "      <td>1</td>\n",
       "      <td>0</td>\n",
       "      <td>1</td>\n",
       "    </tr>\n",
       "    <tr>\n",
       "      <th>287</th>\n",
       "      <td>view bagus tiket murah renang fre</td>\n",
       "      <td>1</td>\n",
       "      <td>0</td>\n",
       "      <td>1</td>\n",
       "    </tr>\n",
       "    <tr>\n",
       "      <th>288</th>\n",
       "      <td>neng banget kesini suasana alam banget bukit s...</td>\n",
       "      <td>1</td>\n",
       "      <td>0</td>\n",
       "      <td>1</td>\n",
       "    </tr>\n",
       "  </tbody>\n",
       "</table>\n",
       "<p>289 rows × 4 columns</p>\n",
       "</div>"
      ],
      "text/plain": [
       "                                                Review  Positif  Negatif label\n",
       "0    bismilah tadi sana pas masuk suru cuci tangan ...        1        0     1\n",
       "1    walaupun ulang kali sini semenjak kecil rasa b...        1        0     1\n",
       "2    suasanan malam hari lokawisata baturaden nih s...        1        0     1\n",
       "3    tempat sangat bersih rapih butuh stamina utama...        1        0     1\n",
       "4    masa lebaran tiket masuk mahal rb sangat ramai...        0       -1    -1\n",
       "..                                                 ...      ...      ...   ...\n",
       "284      paket komplit murah riah cocok acara keluarga        1        0     1\n",
       "285  lokasi nyaman aman banyak tempat berswaphoto b...        1        0     1\n",
       "286  tempat bagus sejuk mandi air dingin hangat fla...        1        0     1\n",
       "287                  view bagus tiket murah renang fre        1        0     1\n",
       "288  neng banget kesini suasana alam banget bukit s...        1        0     1\n",
       "\n",
       "[289 rows x 4 columns]"
      ]
     },
     "execution_count": 5,
     "metadata": {},
     "output_type": "execute_result"
    }
   ],
   "source": [
    "dt"
   ]
  },
  {
   "cell_type": "code",
   "execution_count": 6,
   "id": "d59c87a7",
   "metadata": {},
   "outputs": [],
   "source": [
    "#Drop/ hapus kolom Positif dan Kolom Negatif\n",
    "dt.drop(['Positif','Negatif'], axis=1, inplace=True)"
   ]
  },
  {
   "cell_type": "code",
   "execution_count": 7,
   "id": "ca428620",
   "metadata": {},
   "outputs": [
    {
     "data": {
      "text/html": [
       "<div>\n",
       "<style scoped>\n",
       "    .dataframe tbody tr th:only-of-type {\n",
       "        vertical-align: middle;\n",
       "    }\n",
       "\n",
       "    .dataframe tbody tr th {\n",
       "        vertical-align: top;\n",
       "    }\n",
       "\n",
       "    .dataframe thead th {\n",
       "        text-align: right;\n",
       "    }\n",
       "</style>\n",
       "<table border=\"1\" class=\"dataframe\">\n",
       "  <thead>\n",
       "    <tr style=\"text-align: right;\">\n",
       "      <th></th>\n",
       "      <th>Review</th>\n",
       "      <th>label</th>\n",
       "    </tr>\n",
       "  </thead>\n",
       "  <tbody>\n",
       "    <tr>\n",
       "      <th>0</th>\n",
       "      <td>bismilah tadi sana pas masuk suru cuci tangan ...</td>\n",
       "      <td>1</td>\n",
       "    </tr>\n",
       "    <tr>\n",
       "      <th>1</th>\n",
       "      <td>walaupun ulang kali sini semenjak kecil rasa b...</td>\n",
       "      <td>1</td>\n",
       "    </tr>\n",
       "    <tr>\n",
       "      <th>2</th>\n",
       "      <td>suasanan malam hari lokawisata baturaden nih s...</td>\n",
       "      <td>1</td>\n",
       "    </tr>\n",
       "    <tr>\n",
       "      <th>3</th>\n",
       "      <td>tempat sangat bersih rapih butuh stamina utama...</td>\n",
       "      <td>1</td>\n",
       "    </tr>\n",
       "    <tr>\n",
       "      <th>4</th>\n",
       "      <td>masa lebaran tiket masuk mahal rb sangat ramai...</td>\n",
       "      <td>-1</td>\n",
       "    </tr>\n",
       "    <tr>\n",
       "      <th>5</th>\n",
       "      <td>enak buat wisata keluarga cocok suasana dingin...</td>\n",
       "      <td>0</td>\n",
       "    </tr>\n",
       "    <tr>\n",
       "      <th>6</th>\n",
       "      <td>lokawisata rupa suatu objek wisata letak belah...</td>\n",
       "      <td>1</td>\n",
       "    </tr>\n",
       "    <tr>\n",
       "      <th>7</th>\n",
       "      <td>tempat wisata cukup tarik alam bagus luas udar...</td>\n",
       "      <td>1</td>\n",
       "    </tr>\n",
       "    <tr>\n",
       "      <th>8</th>\n",
       "      <td>wisata pertama sat pandemi kalau mau pancur sa...</td>\n",
       "      <td>1</td>\n",
       "    </tr>\n",
       "    <tr>\n",
       "      <th>9</th>\n",
       "      <td>tempat sangat rekomendasi anak keluarga anak a...</td>\n",
       "      <td>1</td>\n",
       "    </tr>\n",
       "  </tbody>\n",
       "</table>\n",
       "</div>"
      ],
      "text/plain": [
       "                                              Review label\n",
       "0  bismilah tadi sana pas masuk suru cuci tangan ...     1\n",
       "1  walaupun ulang kali sini semenjak kecil rasa b...     1\n",
       "2  suasanan malam hari lokawisata baturaden nih s...     1\n",
       "3  tempat sangat bersih rapih butuh stamina utama...     1\n",
       "4  masa lebaran tiket masuk mahal rb sangat ramai...    -1\n",
       "5  enak buat wisata keluarga cocok suasana dingin...     0\n",
       "6  lokawisata rupa suatu objek wisata letak belah...     1\n",
       "7  tempat wisata cukup tarik alam bagus luas udar...     1\n",
       "8  wisata pertama sat pandemi kalau mau pancur sa...     1\n",
       "9  tempat sangat rekomendasi anak keluarga anak a...     1"
      ]
     },
     "execution_count": 7,
     "metadata": {},
     "output_type": "execute_result"
    }
   ],
   "source": [
    "dt.head(10)"
   ]
  },
  {
   "cell_type": "code",
   "execution_count": 8,
   "id": "e215946a",
   "metadata": {},
   "outputs": [
    {
     "name": "stdout",
     "output_type": "stream",
     "text": [
      "Label Sentimen Positif= 250\n",
      "Label Sentimen Netral= 21\n",
      "Label Sentimen Negatif= 18\n"
     ]
    }
   ],
   "source": [
    "#positif=dt.groupby['label'].sum()\n",
    "positif=dt[dt['label'] ==1]['label'].count()\n",
    "netral=dt[dt['label'] ==0]['label'].count()\n",
    "negatif=dt[dt['label'] ==-1]['label'].count()\n",
    "print('Label Sentimen Positif=',positif)\n",
    "print('Label Sentimen Netral=',netral)\n",
    "print('Label Sentimen Negatif=',negatif)\n",
    "# print('Sentimen Negatif=',negatif)\n"
   ]
  },
  {
   "cell_type": "code",
   "execution_count": 9,
   "id": "d6885aa5",
   "metadata": {},
   "outputs": [],
   "source": [
    "# Vektorisasi dengan TF-iDF\n",
    "# Kali ini akan menggunakan library TfidfVectorizer\n",
    "\n",
    "from sklearn.feature_extraction.text import TfidfVectorizer\n",
    "objek_vektorizer= TfidfVectorizer() # Anda bisa juga menggunakan parameter max_feature\n",
    "                                    # dengan menambahkan dalam kurung max_feature=3000,\n",
    "                                    # artinya jika fitur yang dihasilkan lebih dari 3000\n",
    "                                    # maka akan dipangkas dan hanya\n",
    "                                    # 3000 fitur saja yang akan diproses.\n",
    "                                    # hitung nilai-nilai bobot TF-IDF setiap fitur\n",
    "vektor_dt=objek_vektorizer.fit_transform(dt['Review']).toarray()"
   ]
  },
  {
   "cell_type": "code",
   "execution_count": 10,
   "id": "d78c255c",
   "metadata": {},
   "outputs": [
    {
     "name": "stdout",
     "output_type": "stream",
     "text": [
      "[[0.         0.         0.         ... 0.         0.         0.        ]\n",
      " [0.         0.         0.         ... 0.         0.         0.        ]\n",
      " [0.         0.         0.         ... 0.15457625 0.         0.        ]\n",
      " ...\n",
      " [0.         0.         0.         ... 0.         0.         0.        ]\n",
      " [0.         0.         0.         ... 0.         0.         0.        ]\n",
      " [0.         0.         0.         ... 0.         0.         0.        ]]\n"
     ]
    }
   ],
   "source": [
    "print(vektor_dt)"
   ]
  },
  {
   "cell_type": "code",
   "execution_count": 11,
   "id": "c7b3c61f",
   "metadata": {},
   "outputs": [
    {
     "name": "stdout",
     "output_type": "stream",
     "text": [
      "Jumlah fitur kata yang dihasilkan dari proses vektorisasi : 1440\n"
     ]
    }
   ],
   "source": [
    "#cek jumlah fitur\n",
    "jumlah_fitur=objek_vektorizer.get_feature_names()\n",
    "print(\"Jumlah fitur kata yang dihasilkan dari proses vektorisasi :\",len(jumlah_fitur))"
   ]
  },
  {
   "cell_type": "code",
   "execution_count": 12,
   "id": "b6336142",
   "metadata": {},
   "outputs": [
    {
     "name": "stdout",
     "output_type": "stream",
     "text": [
      "Jumlah 100 fitur kata yang dihasilkan dari proses vektorisasi : 100\n",
      "\n",
      "\n",
      "['adem', 'air', 'alam', 'anak', 'area', 'asri', 'bagus', 'baik', 'banget', 'banyak', 'baturaden', 'bayar', 'beberapa', 'belah', 'bersih', 'buat', 'cocok', 'cukup', 'datang', 'destinasi', 'dingin', 'enak', 'fasilitas', 'foto', 'ga', 'gunung', 'harga', 'hari', 'indah', 'jadi', 'jajan', 'jalan', 'jangkau', 'jauh', 'jual', 'kaki', 'kalau', 'kalo', 'keluarga', 'kesini', 'kolam', 'kota', 'kunjung', 'lebih', 'lereng', 'letak', 'libur', 'lokasi', 'lokawisata', 'luas', 'lumayan', 'main', 'makan', 'malam', 'mandi', 'mantap', 'masuk', 'mau', 'mengunakan', 'milik', 'murah', 'naik', 'nikmat', 'nyaman', 'orang', 'panas', 'pancur', 'pandang', 'parkir', 'pas', 'purwokerto', 'ramai', 'rb', 'renang', 'rupa', 'sama', 'sana', 'sangat', 'sate', 'sedia', 'segar', 'sejuk', 'sekali', 'senang', 'sepeda', 'sini', 'slamet', 'spot', 'suasana', 'taman', 'tarik', 'tempat', 'terlalu', 'tiket', 'udara', 'unjung', 'utama', 'wahana', 'wisata', 'wisatawan']\n",
      "\n",
      "\n",
      " Ini 100 fitur kata:\n",
      "[[0.         0.14827431 0.         ... 0.         0.         0.        ]\n",
      " [0.         0.         0.         ... 0.37762432 0.         0.        ]\n",
      " [0.         0.         0.         ... 0.         0.         0.        ]\n",
      " ...\n",
      " [0.         0.474236   0.         ... 0.         0.         0.        ]\n",
      " [0.         0.         0.         ... 0.         0.         0.        ]\n",
      " [0.         0.         0.20686829 ... 0.         0.1485459  0.        ]]\n"
     ]
    }
   ],
   "source": [
    "#buat objek baru objek_vektorizer_100\n",
    "objek_vektorizer_100= TfidfVectorizer(max_features=100)\n",
    "#proses vektorisasi\n",
    "vektor_dt_100=objek_vektorizer_100.fit_transform(dt['Review']).toarray()\n",
    "#mencari 100 fitur pertama\n",
    "jumlah_fitur_100=objek_vektorizer_100.get_feature_names()\n",
    "print(\"Jumlah 100 fitur kata yang dihasilkan dari proses vektorisasi :\",len(jumlah_fitur_100))\n",
    "print()\n",
    "print()\n",
    "#tampilkan 100 fitur kata pertama\n",
    "print(jumlah_fitur_100)\n",
    "#Tampiljkan bobot 100 fitur pertama\n",
    "print(\"\\n\\n Ini 100 fitur kata:\")\n",
    "print(vektor_dt_100)"
   ]
  },
  {
   "cell_type": "code",
   "execution_count": 13,
   "id": "5a467f0b",
   "metadata": {},
   "outputs": [
    {
     "data": {
      "text/plain": [
       "array([[0.        , 0.        , 0.        , ..., 0.        , 0.        ,\n",
       "        0.        ],\n",
       "       [0.        , 0.        , 0.        , ..., 0.        , 0.        ,\n",
       "        0.        ],\n",
       "       [0.        , 0.        , 0.        , ..., 0.15457625, 0.        ,\n",
       "        0.        ],\n",
       "       ...,\n",
       "       [0.        , 0.        , 0.        , ..., 0.        , 0.        ,\n",
       "        0.        ],\n",
       "       [0.        , 0.        , 0.        , ..., 0.        , 0.        ,\n",
       "        0.        ],\n",
       "       [0.        , 0.        , 0.        , ..., 0.        , 0.        ,\n",
       "        0.        ]])"
      ]
     },
     "execution_count": 13,
     "metadata": {},
     "output_type": "execute_result"
    }
   ],
   "source": [
    "# Bagi data menjadi data training dan testing. Kita akan menggunakan hasil vektorisasi TFIDF ( semua fitur).\n",
    "#Pada proses vektorisasi hasil TFIDF disimpan dalam vektor_dt\n",
    "# panggil library untuk split data menjadi training dan testing\n",
    "from sklearn.model_selection import train_test_split\n",
    "y=dt['label']\n",
    "y=y.astype('int')\n",
    "Xtrain, Xtest,Ytrain, Ytest = train_test_split(vektor_dt, y, test_size=0.2, random_state=0)\n",
    "vektor_dt"
   ]
  },
  {
   "cell_type": "code",
   "execution_count": 14,
   "id": "083be0ca",
   "metadata": {},
   "outputs": [],
   "source": [
    "# Panggil kelas Naive Bayes\n",
    "from sklearn.naive_bayes import MultinomialNB\n",
    "#buat objek dari kelas Naive Bayes\n",
    "model_NBM=MultinomialNB()"
   ]
  },
  {
   "cell_type": "code",
   "execution_count": 15,
   "id": "86fc8d35",
   "metadata": {},
   "outputs": [
    {
     "data": {
      "text/plain": [
       "MultinomialNB()"
      ]
     },
     "execution_count": 15,
     "metadata": {},
     "output_type": "execute_result"
    }
   ],
   "source": [
    "#lakukan training\n",
    "model_NBM.fit(Xtrain,Ytrain)"
   ]
  },
  {
   "cell_type": "code",
   "execution_count": 16,
   "id": "71c163de",
   "metadata": {},
   "outputs": [
    {
     "name": "stdout",
     "output_type": "stream",
     "text": [
      " TABEL CONFUSSION MATRIX\n",
      "==========================\n",
      "[[50  0  0]\n",
      " [ 4  0  0]\n",
      " [ 4  0  0]]\n",
      "                    TABEL AKURASI\n",
      "====================================================\n",
      "              precision    recall  f1-score   support\n",
      "\n",
      "          -1       0.00      0.00      0.00         4\n",
      "           0       0.00      0.00      0.00         4\n",
      "           1       0.86      1.00      0.93        50\n",
      "\n",
      "    accuracy                           0.86        58\n",
      "   macro avg       0.29      0.33      0.31        58\n",
      "weighted avg       0.74      0.86      0.80        58\n",
      "\n"
     ]
    },
    {
     "name": "stderr",
     "output_type": "stream",
     "text": [
      "C:\\Users\\USER\\anaconda3\\lib\\site-packages\\sklearn\\metrics\\_classification.py:1248: UndefinedMetricWarning: Precision and F-score are ill-defined and being set to 0.0 in labels with no predicted samples. Use `zero_division` parameter to control this behavior.\n",
      "  _warn_prf(average, modifier, msg_start, len(result))\n",
      "C:\\Users\\USER\\anaconda3\\lib\\site-packages\\sklearn\\metrics\\_classification.py:1248: UndefinedMetricWarning: Precision and F-score are ill-defined and being set to 0.0 in labels with no predicted samples. Use `zero_division` parameter to control this behavior.\n",
      "  _warn_prf(average, modifier, msg_start, len(result))\n",
      "C:\\Users\\USER\\anaconda3\\lib\\site-packages\\sklearn\\metrics\\_classification.py:1248: UndefinedMetricWarning: Precision and F-score are ill-defined and being set to 0.0 in labels with no predicted samples. Use `zero_division` parameter to control this behavior.\n",
      "  _warn_prf(average, modifier, msg_start, len(result))\n"
     ]
    }
   ],
   "source": [
    "from sklearn.metrics import classification_report, confusion_matrix, accuracy_score,precision_score, recall_score, f1_score\n",
    "y_preds = model_NBM.predict(Xtest)\n",
    "print(\" TABEL CONFUSSION MATRIX\")\n",
    "print(\"==========================\")\n",
    "print(confusion_matrix(Ytest,y_preds, labels=[1,0,-1]))\n",
    "print(\"                    TABEL AKURASI\")\n",
    "print(\"====================================================\")\n",
    "print(classification_report(Ytest,y_preds))"
   ]
  },
  {
   "cell_type": "code",
   "execution_count": 17,
   "id": "471ceb2e",
   "metadata": {},
   "outputs": [],
   "source": [
    "import seaborn as sns"
   ]
  },
  {
   "cell_type": "code",
   "execution_count": 18,
   "id": "d0fbbdb4",
   "metadata": {},
   "outputs": [
    {
     "data": {
      "image/png": "[encoded data removed]",
      "text/plain": [
       "<Figure size 576x360 with 2 Axes>"
      ]
     },
     "metadata": {
      "needs_background": "light"
     },
     "output_type": "display_data"
    }
   ],
   "source": [
    "import matplotlib.pyplot as plt\n",
    "f, ax = plt.subplots(figsize=(8,5))\n",
    "sns.heatmap(confusion_matrix(Ytest, y_preds), annot=True, fmt=\".0f\", ax=ax)\n",
    "plt.xlabel(\"Predicted Label\")\n",
    "plt.ylabel(\"Actual/ True Label\")\n",
    "plt.show()"
   ]
  },
  {
   "cell_type": "code",
   "execution_count": 19,
   "id": "a8696477",
   "metadata": {},
   "outputs": [
    {
     "name": "stdout",
     "output_type": "stream",
     "text": [
      "\n",
      "Nilai Setiap Parameter Cofussion Matrix\n",
      "====================================================\n",
      "Akurasinya adalah : 0.8620689655172413\n",
      "Presisi Model sebesar : [0.         0.         0.86206897]\n",
      "Kemamuan recall/ sensivitas Model sebesar: [0. 0. 1.]\n",
      "Specificity Model sebesar : [0. 0. 1.]\n",
      "Skor F-1 dari model sebesar: [0.         0.         0.92592593]\n"
     ]
    },
    {
     "name": "stderr",
     "output_type": "stream",
     "text": [
      "C:\\Users\\USER\\anaconda3\\lib\\site-packages\\sklearn\\metrics\\_classification.py:1248: UndefinedMetricWarning: Precision is ill-defined and being set to 0.0 in labels with no predicted samples. Use `zero_division` parameter to control this behavior.\n",
      "  _warn_prf(average, modifier, msg_start, len(result))\n",
      "C:\\Users\\USER\\anaconda3\\lib\\site-packages\\sklearn\\metrics\\_classification.py:1298: UserWarning: Note that pos_label (set to 0) is ignored when average != 'binary' (got None). You may use labels=[pos_label] to specify a single positive class.\n",
      "  warnings.warn(\"Note that pos_label (set to %r) is ignored when \"\n"
     ]
    }
   ],
   "source": [
    "print(\"\\nNilai Setiap Parameter Cofussion Matrix\")\n",
    "print(\"====================================================\")\n",
    "print('Akurasinya adalah :',accuracy_score(Ytest, y_preds))\n",
    "print('Presisi Model sebesar :',precision_score(Ytest, y_preds, average=None))\n",
    "print('Kemamuan recall/ sensivitas Model sebesar:',recall_score(Ytest,y_preds, average=None) )\n",
    "print('Specificity Model sebesar :',recall_score(Ytest,y_preds, pos_label=0, average=None))\n",
    "print('Skor F-1 dari model sebesar:',f1_score(Ytest, y_preds, average=None))\n"
   ]
  },
  {
   "cell_type": "markdown",
   "id": "f9bdd529",
   "metadata": {},
   "source": [
    "<h1>Decision Tree</h1>"
   ]
  },
  {
   "cell_type": "code",
   "execution_count": 24,
   "id": "5da37285",
   "metadata": {},
   "outputs": [],
   "source": [
    "from sklearn.tree import DecisionTreeClassifier"
   ]
  },
  {
   "cell_type": "code",
   "execution_count": 25,
   "id": "566a0e76",
   "metadata": {},
   "outputs": [],
   "source": [
    "model_tree = DecisionTreeClassifier(criterion='gini')"
   ]
  },
  {
   "cell_type": "code",
   "execution_count": 26,
   "id": "e99545b6",
   "metadata": {},
   "outputs": [
    {
     "data": {
      "text/plain": [
       "DecisionTreeClassifier()"
      ]
     },
     "execution_count": 26,
     "metadata": {},
     "output_type": "execute_result"
    }
   ],
   "source": [
    "model_tree.fit(Xtrain, Ytrain)"
   ]
  },
  {
   "cell_type": "code",
   "execution_count": 27,
   "id": "15259aa0",
   "metadata": {},
   "outputs": [
    {
     "name": "stdout",
     "output_type": "stream",
     "text": [
      "                       Tabel Akurasi\n",
      "============================================================\n",
      "              precision    recall  f1-score   support\n",
      "\n",
      "          -1       1.00      0.25      0.40         4\n",
      "           0       0.00      0.00      0.00         4\n",
      "           1       0.87      0.96      0.91        50\n",
      "\n",
      "    accuracy                           0.84        58\n",
      "   macro avg       0.62      0.40      0.44        58\n",
      "weighted avg       0.82      0.84      0.82        58\n",
      "\n"
     ]
    }
   ],
   "source": [
    "from sklearn.metrics import classification_report, confusion_matrix, accuracy_score, precision_score, recall_score, f1_score\n",
    "y_preds = model_tree.predict(Xtest)\n",
    "print('                       Tabel Akurasi')\n",
    "print('='*60)\n",
    "print(classification_report(Ytest, y_preds))"
   ]
  },
  {
   "cell_type": "code",
   "execution_count": null,
   "id": "662d64bf",
   "metadata": {},
   "outputs": [],
   "source": []
  }
 ],
 "metadata": {
  "kernelspec": {
   "display_name": "Python 3 (ipykernel)",
   "language": "python",
   "name": "python3"
  },
  "language_info": {
   "codemirror_mode": {
    "name": "ipython",
    "version": 3
   },
   "file_extension": ".py",
   "mimetype": "text/x-python",
   "name": "python",
   "nbconvert_exporter": "python",
   "pygments_lexer": "ipython3",
   "version": "3.9.7"
  }
 },
 "nbformat": 4,
 "nbformat_minor": 5
}

{
 "cells": [
  {
   "cell_type": "code",
   "execution_count": 1,
   "id": "e3b4142b",
   "metadata": {},
   "outputs": [],
   "source": [
    "import numpy as np\n",
    "import pandas as pd"
   ]
  },
  {
   "cell_type": "code",
   "execution_count": 2,
   "id": "cbf27500",
   "metadata": {},
   "outputs": [],
   "source": [
    "data = pd.read_excel('hasilpreprocessing.xlsx')"
   ]
  },
  {
   "cell_type": "code",
   "execution_count": 3,
   "id": "18b8d84d",
   "metadata": {},
   "outputs": [
    {
     "data": {
      "text/html": [
       "<div>\n",
       "<style scoped>\n",
       "    .dataframe tbody tr th:only-of-type {\n",
       "        vertical-align: middle;\n",
       "    }\n",
       "\n",
       "    .dataframe tbody tr th {\n",
       "        vertical-align: top;\n",
       "    }\n",
       "\n",
       "    .dataframe thead th {\n",
       "        text-align: right;\n",
       "    }\n",
       "</style>\n",
       "<table border=\"1\" class=\"dataframe\">\n",
       "  <thead>\n",
       "    <tr style=\"text-align: right;\">\n",
       "      <th></th>\n",
       "      <th>Nama</th>\n",
       "      <th>Waktu</th>\n",
       "      <th>Rating</th>\n",
       "      <th>Review</th>\n",
       "      <th>CleanReview</th>\n",
       "    </tr>\n",
       "  </thead>\n",
       "  <tbody>\n",
       "    <tr>\n",
       "      <th>0</th>\n",
       "      <td>Sonia Soraya</td>\n",
       "      <td>3 minggu lalu</td>\n",
       "      <td>5 bintang</td>\n",
       "      <td>Bismillah tadi kita ke ke sana..  Pas masuk di...</td>\n",
       "      <td>bismilah tadi sana pas masuk suru cuci tangan ...</td>\n",
       "    </tr>\n",
       "    <tr>\n",
       "      <th>1</th>\n",
       "      <td>Andy Kristyagita</td>\n",
       "      <td>sebulan lalu</td>\n",
       "      <td>5 bintang</td>\n",
       "      <td>Walaupun sudah berulang kali ke sini semenjak ...</td>\n",
       "      <td>walaupun ulang kali sini semenjak kecil rasa b...</td>\n",
       "    </tr>\n",
       "    <tr>\n",
       "      <th>2</th>\n",
       "      <td>Edza Tamara</td>\n",
       "      <td>2 minggu lalu</td>\n",
       "      <td>5 bintang</td>\n",
       "      <td>Suasanan malam hari di lokawisata baturraden n...</td>\n",
       "      <td>suasanan malam hari lokawisata baturaden nih s...</td>\n",
       "    </tr>\n",
       "    <tr>\n",
       "      <th>3</th>\n",
       "      <td>Abrakadabra</td>\n",
       "      <td>seminggu lalu</td>\n",
       "      <td>5 bintang</td>\n",
       "      <td>Tempat nya sangat Bersih Dan rapih, butuh stam...</td>\n",
       "      <td>tempat sangat bersih rapih butuh stamina utama...</td>\n",
       "    </tr>\n",
       "    <tr>\n",
       "      <th>4</th>\n",
       "      <td>Riko Tampati</td>\n",
       "      <td>sebulan lalu</td>\n",
       "      <td>4 bintang</td>\n",
       "      <td>Masih masa lebaran, tiket masuk agak mahal 25r...</td>\n",
       "      <td>masa lebaran tiket masuk mahal rb sangat ramai...</td>\n",
       "    </tr>\n",
       "    <tr>\n",
       "      <th>...</th>\n",
       "      <td>...</td>\n",
       "      <td>...</td>\n",
       "      <td>...</td>\n",
       "      <td>...</td>\n",
       "      <td>...</td>\n",
       "    </tr>\n",
       "    <tr>\n",
       "      <th>285</th>\n",
       "      <td>bunda popon</td>\n",
       "      <td>3 bulan lalu</td>\n",
       "      <td>5 bintang</td>\n",
       "      <td>Paket komplit, murah meriah cocok untuk acara ...</td>\n",
       "      <td>paket komplit murah riah cocok acara keluarga</td>\n",
       "    </tr>\n",
       "    <tr>\n",
       "      <th>286</th>\n",
       "      <td>petruk</td>\n",
       "      <td>setahun lalu</td>\n",
       "      <td>5 bintang</td>\n",
       "      <td>Lokasi nya nyaman dan aman, banyak tempat untu...</td>\n",
       "      <td>lokasi nyaman aman banyak tempat berswaphoto b...</td>\n",
       "    </tr>\n",
       "    <tr>\n",
       "      <th>287</th>\n",
       "      <td>Eva Meliana</td>\n",
       "      <td>2 tahun lalu</td>\n",
       "      <td>5 bintang</td>\n",
       "      <td>Tempat nya bagus, sejuk, pemandian nya air nya...</td>\n",
       "      <td>tempat bagus sejuk mandi air dingin hangat fla...</td>\n",
       "    </tr>\n",
       "    <tr>\n",
       "      <th>288</th>\n",
       "      <td>Deandra Almerrafif W.T</td>\n",
       "      <td>sebulan lalu</td>\n",
       "      <td>5 bintang</td>\n",
       "      <td>View bagus,,, tiket murah, berenang free</td>\n",
       "      <td>view bagus tiket murah renang fre</td>\n",
       "    </tr>\n",
       "    <tr>\n",
       "      <th>289</th>\n",
       "      <td>agniya ridha</td>\n",
       "      <td>2 tahun lalu</td>\n",
       "      <td>5 bintang</td>\n",
       "      <td>Seneng banget bisa kesini, suasananya alam ban...</td>\n",
       "      <td>neng banget kesini suasana alam banget bukit s...</td>\n",
       "    </tr>\n",
       "  </tbody>\n",
       "</table>\n",
       "<p>290 rows × 5 columns</p>\n",
       "</div>"
      ],
      "text/plain": [
       "                       Nama          Waktu     Rating  \\\n",
       "0              Sonia Soraya  3 minggu lalu  5 bintang   \n",
       "1          Andy Kristyagita   sebulan lalu  5 bintang   \n",
       "2               Edza Tamara  2 minggu lalu  5 bintang   \n",
       "3               Abrakadabra  seminggu lalu  5 bintang   \n",
       "4              Riko Tampati   sebulan lalu  4 bintang   \n",
       "..                      ...            ...        ...   \n",
       "285             bunda popon   3 bulan lalu  5 bintang   \n",
       "286                  petruk   setahun lalu  5 bintang   \n",
       "287             Eva Meliana   2 tahun lalu  5 bintang   \n",
       "288  Deandra Almerrafif W.T   sebulan lalu  5 bintang   \n",
       "289            agniya ridha   2 tahun lalu  5 bintang   \n",
       "\n",
       "                                                Review  \\\n",
       "0    Bismillah tadi kita ke ke sana..  Pas masuk di...   \n",
       "1    Walaupun sudah berulang kali ke sini semenjak ...   \n",
       "2    Suasanan malam hari di lokawisata baturraden n...   \n",
       "3    Tempat nya sangat Bersih Dan rapih, butuh stam...   \n",
       "4    Masih masa lebaran, tiket masuk agak mahal 25r...   \n",
       "..                                                 ...   \n",
       "285  Paket komplit, murah meriah cocok untuk acara ...   \n",
       "286  Lokasi nya nyaman dan aman, banyak tempat untu...   \n",
       "287  Tempat nya bagus, sejuk, pemandian nya air nya...   \n",
       "288           View bagus,,, tiket murah, berenang free   \n",
       "289  Seneng banget bisa kesini, suasananya alam ban...   \n",
       "\n",
       "                                           CleanReview  \n",
       "0    bismilah tadi sana pas masuk suru cuci tangan ...  \n",
       "1    walaupun ulang kali sini semenjak kecil rasa b...  \n",
       "2    suasanan malam hari lokawisata baturaden nih s...  \n",
       "3    tempat sangat bersih rapih butuh stamina utama...  \n",
       "4    masa lebaran tiket masuk mahal rb sangat ramai...  \n",
       "..                                                 ...  \n",
       "285      paket komplit murah riah cocok acara keluarga  \n",
       "286  lokasi nyaman aman banyak tempat berswaphoto b...  \n",
       "287  tempat bagus sejuk mandi air dingin hangat fla...  \n",
       "288                  view bagus tiket murah renang fre  \n",
       "289  neng banget kesini suasana alam banget bukit s...  \n",
       "\n",
       "[290 rows x 5 columns]"
      ]
     },
     "execution_count": 3,
     "metadata": {},
     "output_type": "execute_result"
    }
   ],
   "source": [
    "data"
   ]
  },
  {
   "cell_type": "code",
   "execution_count": 4,
   "id": "d656ceb1",
   "metadata": {},
   "outputs": [],
   "source": [
    "data.drop(['Nama','Waktu','Rating','Review'], axis=1, inplace=True)"
   ]
  },
  {
   "cell_type": "code",
   "execution_count": 5,
   "id": "3d982417",
   "metadata": {},
   "outputs": [
    {
     "data": {
      "text/html": [
       "<div>\n",
       "<style scoped>\n",
       "    .dataframe tbody tr th:only-of-type {\n",
       "        vertical-align: middle;\n",
       "    }\n",
       "\n",
       "    .dataframe tbody tr th {\n",
       "        vertical-align: top;\n",
       "    }\n",
       "\n",
       "    .dataframe thead th {\n",
       "        text-align: right;\n",
       "    }\n",
       "</style>\n",
       "<table border=\"1\" class=\"dataframe\">\n",
       "  <thead>\n",
       "    <tr style=\"text-align: right;\">\n",
       "      <th></th>\n",
       "      <th>CleanReview</th>\n",
       "    </tr>\n",
       "  </thead>\n",
       "  <tbody>\n",
       "    <tr>\n",
       "      <th>0</th>\n",
       "      <td>bismilah tadi sana pas masuk suru cuci tangan ...</td>\n",
       "    </tr>\n",
       "    <tr>\n",
       "      <th>1</th>\n",
       "      <td>walaupun ulang kali sini semenjak kecil rasa b...</td>\n",
       "    </tr>\n",
       "    <tr>\n",
       "      <th>2</th>\n",
       "      <td>suasanan malam hari lokawisata baturaden nih s...</td>\n",
       "    </tr>\n",
       "    <tr>\n",
       "      <th>3</th>\n",
       "      <td>tempat sangat bersih rapih butuh stamina utama...</td>\n",
       "    </tr>\n",
       "    <tr>\n",
       "      <th>4</th>\n",
       "      <td>masa lebaran tiket masuk mahal rb sangat ramai...</td>\n",
       "    </tr>\n",
       "    <tr>\n",
       "      <th>...</th>\n",
       "      <td>...</td>\n",
       "    </tr>\n",
       "    <tr>\n",
       "      <th>285</th>\n",
       "      <td>paket komplit murah riah cocok acara keluarga</td>\n",
       "    </tr>\n",
       "    <tr>\n",
       "      <th>286</th>\n",
       "      <td>lokasi nyaman aman banyak tempat berswaphoto b...</td>\n",
       "    </tr>\n",
       "    <tr>\n",
       "      <th>287</th>\n",
       "      <td>tempat bagus sejuk mandi air dingin hangat fla...</td>\n",
       "    </tr>\n",
       "    <tr>\n",
       "      <th>288</th>\n",
       "      <td>view bagus tiket murah renang fre</td>\n",
       "    </tr>\n",
       "    <tr>\n",
       "      <th>289</th>\n",
       "      <td>neng banget kesini suasana alam banget bukit s...</td>\n",
       "    </tr>\n",
       "  </tbody>\n",
       "</table>\n",
       "<p>290 rows × 1 columns</p>\n",
       "</div>"
      ],
      "text/plain": [
       "                                           CleanReview\n",
       "0    bismilah tadi sana pas masuk suru cuci tangan ...\n",
       "1    walaupun ulang kali sini semenjak kecil rasa b...\n",
       "2    suasanan malam hari lokawisata baturaden nih s...\n",
       "3    tempat sangat bersih rapih butuh stamina utama...\n",
       "4    masa lebaran tiket masuk mahal rb sangat ramai...\n",
       "..                                                 ...\n",
       "285      paket komplit murah riah cocok acara keluarga\n",
       "286  lokasi nyaman aman banyak tempat berswaphoto b...\n",
       "287  tempat bagus sejuk mandi air dingin hangat fla...\n",
       "288                  view bagus tiket murah renang fre\n",
       "289  neng banget kesini suasana alam banget bukit s...\n",
       "\n",
       "[290 rows x 1 columns]"
      ]
     },
     "execution_count": 5,
     "metadata": {},
     "output_type": "execute_result"
    }
   ],
   "source": [
    "data"
   ]
  },
  {
   "cell_type": "code",
   "execution_count": 6,
   "id": "1b4c9c2c",
   "metadata": {},
   "outputs": [],
   "source": [
    "from sklearn.feature_extraction.text import TfidfVectorizer\n",
    "vektor = TfidfVectorizer(max_features = 1000)"
   ]
  },
  {
   "cell_type": "code",
   "execution_count": 7,
   "id": "4169faae",
   "metadata": {},
   "outputs": [
    {
     "name": "stdout",
     "output_type": "stream",
     "text": [
      "  (0, 347)\t0.08421706155368819\n",
      "  (0, 273)\t0.04799209947632266\n",
      "  (0, 371)\t0.07987105350107547\n",
      "  (0, 468)\t0.08421706155368819\n",
      "  (0, 524)\t0.07650002776201868\n",
      "  (0, 568)\t0.09034241587234121\n",
      "  (0, 472)\t0.1111146060389744\n",
      "  (0, 597)\t0.1160249473075824\n",
      "  (0, 337)\t0.06939969112980973\n",
      "  (0, 857)\t0.07374569918242245\n",
      "  (0, 30)\t0.08421706155368819\n",
      "  (0, 450)\t0.1160249473075824\n",
      "  (0, 378)\t0.06327433681115671\n",
      "  (0, 973)\t0.09034241587234121\n",
      "  (0, 793)\t0.07987105350107547\n",
      "  (0, 343)\t0.08421706155368819\n",
      "  (0, 633)\t0.09034241587234121\n",
      "  (0, 640)\t0.09034241587234121\n",
      "  (0, 930)\t0.09034241587234121\n",
      "  (0, 272)\t0.16843412310737638\n",
      "  (0, 66)\t0.0580124736537912\n",
      "  (0, 302)\t0.062065133021927114\n",
      "  (0, 248)\t0.07141694754998529\n",
      "  (0, 918)\t0.07987105350107547\n",
      "  (0, 64)\t0.06939969112980973\n",
      "  :\t:\n",
      "  (287, 834)\t0.08358204323581261\n",
      "  (287, 419)\t0.12896191883172808\n",
      "  (288, 951)\t0.5253239105715615\n",
      "  (288, 224)\t0.5484726658816598\n",
      "  (288, 445)\t0.34296496466574855\n",
      "  (288, 49)\t0.25765402863477166\n",
      "  (288, 872)\t0.31223055695262647\n",
      "  (288, 616)\t0.37644924971052074\n",
      "  (289, 778)\t0.33031463092997715\n",
      "  (289, 102)\t0.2797033729101378\n",
      "  (289, 495)\t0.23615298271747767\n",
      "  (289, 784)\t0.25374275351004566\n",
      "  (289, 49)\t0.1371852668473077\n",
      "  (289, 449)\t0.2797033729101378\n",
      "  (289, 17)\t0.16215063528675477\n",
      "  (289, 984)\t0.11648909892990988\n",
      "  (289, 338)\t0.20043657399672055\n",
      "  (289, 768)\t0.22283241244695903\n",
      "  (289, 273)\t0.17547120555727347\n",
      "  (289, 401)\t0.1930609763498414\n",
      "  (289, 392)\t0.1865552381593302\n",
      "  (289, 266)\t0.15035388397133856\n",
      "  (289, 834)\t0.10509211968950363\n",
      "  (289, 54)\t0.5596657144779905\n",
      "  (289, 56)\t0.12655961807027477\n",
      "(290, 1000)\n"
     ]
    }
   ],
   "source": [
    "#menghitung tf-idf dengan TfidfTransformer\n",
    "vektor_dt = vektor.fit_transform(data['CleanReview'])\n",
    "print(vektor_dt)\n",
    "print(vektor_dt.shape)"
   ]
  },
  {
   "cell_type": "code",
   "execution_count": 8,
   "id": "1d2816c6",
   "metadata": {},
   "outputs": [],
   "source": [
    "idf = vektor.idf_"
   ]
  },
  {
   "cell_type": "code",
   "execution_count": 10,
   "id": "162bcfad",
   "metadata": {},
   "outputs": [
    {
     "name": "stdout",
     "output_type": "stream",
     "text": [
      "tempat yuk\n",
      "1.9026386427058277\n",
      "5.980176086611547\n"
     ]
    }
   ],
   "source": [
    "        dd = dict(zip(vektor.get_feature_names(), idf))\n",
    "        l = sorted(dd, key = (dd).get)\n",
    "        print(l[0], l[-1])\n",
    "        print(dd['tempat'])\n",
    "        print(dd['yuk'])"
   ]
  },
  {
   "cell_type": "code",
   "execution_count": 12,
   "id": "a1d45055",
   "metadata": {},
   "outputs": [],
   "source": [
    "from sklearn.decomposition import TruncatedSVD\n",
    "lsa_model = TruncatedSVD(n_components=10, algorithm='randomized', n_iter=10, random_state=42)\n",
    "lsa_top = lsa_model.fit_transform(vektor_dt)"
   ]
  },
  {
   "cell_type": "code",
   "execution_count": 13,
   "id": "1b28f97e",
   "metadata": {},
   "outputs": [
    {
     "name": "stdout",
     "output_type": "stream",
     "text": [
      "(290, 10)\n"
     ]
    }
   ],
   "source": [
    "# jumlah dokumen * jumlah topik\n",
    "print(lsa_top.shape)"
   ]
  },
  {
   "cell_type": "code",
   "execution_count": 14,
   "id": "cca30a0a",
   "metadata": {},
   "outputs": [
    {
     "name": "stdout",
     "output_type": "stream",
     "text": [
      "[[ 0.31745006 -0.17029351 -0.11552146 ... -0.15115519 -0.00735828\n",
      "   0.00441833]\n",
      " [ 0.23077147 -0.08078673 -0.00405185 ... -0.06458661  0.03549375\n",
      "  -0.06265393]\n",
      " [ 0.25025216 -0.05180426 -0.10613226 ... -0.26583907 -0.12007052\n",
      "   0.04399331]\n",
      " ...\n",
      " [ 0.21230506 -0.13931997  0.01432029 ...  0.10024961  0.04317799\n",
      "   0.08046309]\n",
      " [ 0.1533487  -0.03724352 -0.00294536 ...  0.18207864  0.06576912\n",
      "   0.052478  ]\n",
      " [ 0.31116954 -0.04544655 -0.01161705 ... -0.10928027 -0.02887286\n",
      "   0.07885098]]\n"
     ]
    }
   ],
   "source": [
    "# top lsa\n",
    "print(lsa_top)"
   ]
  },
  {
   "cell_type": "code",
   "execution_count": 15,
   "id": "2e223b70",
   "metadata": {},
   "outputs": [
    {
     "name": "stdout",
     "output_type": "stream",
     "text": [
      "Topik - Topik :\n",
      "Topic  0  :  31.745005732730412\n",
      "Topic  1  :  -17.029350504564885\n",
      "Topic  2  :  -11.552146386091563\n",
      "Topic  3  :  -20.639790650657307\n",
      "Topic  4  :  -15.414840634952784\n",
      "Topic  5  :  4.698333069504581\n",
      "Topic  6  :  3.052427219395856\n",
      "Topic  7  :  -15.115519169074492\n",
      "Topic  8  :  -0.735828199049032\n",
      "Topic  9  :  0.44183323491565724\n"
     ]
    }
   ],
   "source": [
    "# memunculkan nilai lsa setiap topik\n",
    "l = lsa_top[0]\n",
    "print('Topik - Topik :')\n",
    "for i, topic in enumerate(l):\n",
    "    print('Topic ', i, ' : ', topic*100)"
   ]
  },
  {
   "cell_type": "code",
   "execution_count": 16,
   "id": "2daffc55",
   "metadata": {},
   "outputs": [
    {
     "name": "stdout",
     "output_type": "stream",
     "text": [
      "(10, 1000)\n",
      "[[ 0.00472223  0.00938492  0.00394329 ...  0.00287022  0.00238514\n",
      "   0.00403317]\n",
      " [-0.00110266  0.00036106 -0.00491462 ...  0.00184425 -0.00123164\n",
      "  -0.00925591]\n",
      " [ 0.00418243 -0.01583195 -0.00549772 ...  0.00498468 -0.00270828\n",
      "  -0.00135519]\n",
      " ...\n",
      " [-0.00817405  0.01221146 -0.00460261 ... -0.01379516 -0.01109656\n",
      "  -0.00081585]\n",
      " [-0.00017271  0.00473861  0.00675748 ... -0.01673681 -0.00534255\n",
      "   0.00013949]\n",
      " [-0.01179278  0.01105272 -0.00225856 ...  0.00700665  0.00202098\n",
      "   0.0049999 ]]\n"
     ]
    }
   ],
   "source": [
    "#memunculkan jumlah kata-kata dalam setiap topik\n",
    "print(lsa_model.components_.shape)\n",
    "print(lsa_model.components_)"
   ]
  },
  {
   "cell_type": "code",
   "execution_count": 17,
   "id": "1d045d0c",
   "metadata": {},
   "outputs": [
    {
     "name": "stdout",
     "output_type": "stream",
     "text": [
      "Topic 0: \n",
      "tempat, wisata, keluarga, bagus, buat, sejuk, nyaman, banyak, cocok, bersih, \n",
      "\n",
      "Topic 1: \n",
      "keluarga, nyaman, tempat, cocok, buat, libur, bagus, bersih, sejuk, udara, \n",
      "\n",
      "Topic 2: \n",
      "nyaman, indah, pandang, segar, bersih, sejuk, mantap, udara, asri, sekali, \n",
      "\n",
      "Topic 3: \n",
      "wisata, alam, indah, baturaden, keluarga, purwokerto, sangat, gunung, slamet, cocok, \n",
      "\n",
      "Topic 4: \n",
      "bagus, udara, segar, alam, pemandanganya, wisata, libur, bgt, seger, pandang, \n",
      "\n",
      "Topic 5: \n",
      "mantap, pandang, indah, kesini, bgt, masuk, sekali, banget, murah, tiket, \n",
      "\n",
      "Topic 6: \n",
      "bagus, buat, wisata, alam, nyaman, indah, spot, foto, banget, makin, \n",
      "\n",
      "Topic 7: \n",
      "murah, alam, bersih, wisata, masuk, tempat, sejuk, sangat, tiket, biaya, \n",
      "\n",
      "Topic 8: \n",
      "nyaman, tiket, keluarga, wahana, air, masuk, bagus, cocok, seru, alam, \n",
      "\n",
      "Topic 9: \n",
      "asri, sejuk, alam, murah, segar, cocok, gunung, banyak, banget, udara, \n",
      "\n"
     ]
    }
   ],
   "source": [
    "# word / kata paling penting dalam setiap topik\n",
    "vocab = vektor.get_feature_names()\n",
    "for i, comp in enumerate(lsa_model.components_):\n",
    "    vocab_comp = zip(vocab, comp)\n",
    "    sorted_words = sorted(vocab_comp, key = lambda x:x[1], reverse=True)[:10]\n",
    "    print('Topic '+str(i)+': ')\n",
    "    for t in sorted_words:\n",
    "        print(t[0], end=', ')\n",
    "    print('\\n')"
   ]
  },
  {
   "cell_type": "code",
   "execution_count": null,
   "id": "41b20047",
   "metadata": {},
   "outputs": [],
   "source": []
  }
 ],
 "metadata": {
  "kernelspec": {
   "display_name": "Python 3 (ipykernel)",
   "language": "python",
   "name": "python3"
  },
  "language_info": {
   "codemirror_mode": {
    "name": "ipython",
    "version": 3
   },
   "file_extension": ".py",
   "mimetype": "text/x-python",
   "name": "python",
   "nbconvert_exporter": "python",
   "pygments_lexer": "ipython3",
   "version": "3.9.7"
  }
 },
 "nbformat": 4,
 "nbformat_minor": 5
}

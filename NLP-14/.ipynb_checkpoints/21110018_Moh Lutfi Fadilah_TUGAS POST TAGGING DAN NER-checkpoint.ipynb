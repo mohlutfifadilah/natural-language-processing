{
 "cells": [
  {
   "cell_type": "code",
   "execution_count": 1,
   "metadata": {
    "id": "aY7ItPcgCZLe"
   },
   "outputs": [],
   "source": [
    "import pandas as pd\n",
    "from nltk import word_tokenize\n",
    "from nltk.tag import CRFTagger"
   ]
  },
  {
   "cell_type": "code",
   "execution_count": 2,
   "metadata": {
    "colab": {
     "base_uri": "https://localhost:8080/"
    },
    "id": "pwPYJ_bJCjwh",
    "outputId": "75042f59-fa97-4a18-8ed6-c8b1cdb79f01"
   },
   "outputs": [
    {
     "name": "stderr",
     "output_type": "stream",
     "text": [
      "[nltk_data] Downloading package punkt to\n",
      "[nltk_data]     C:\\Users\\USER\\AppData\\Roaming\\nltk_data...\n",
      "[nltk_data]   Package punkt is already up-to-date!\n"
     ]
    },
    {
     "data": {
      "text/plain": [
       "True"
      ]
     },
     "execution_count": 2,
     "metadata": {},
     "output_type": "execute_result"
    }
   ],
   "source": [
    "import nltk\n",
    "nltk.download('punkt')"
   ]
  },
  {
   "cell_type": "code",
   "execution_count": 3,
   "metadata": {
    "id": "PlPMvxfICpWw"
   },
   "outputs": [
    {
     "data": {
      "text/html": [
       "<div>\n",
       "<style scoped>\n",
       "    .dataframe tbody tr th:only-of-type {\n",
       "        vertical-align: middle;\n",
       "    }\n",
       "\n",
       "    .dataframe tbody tr th {\n",
       "        vertical-align: top;\n",
       "    }\n",
       "\n",
       "    .dataframe thead th {\n",
       "        text-align: right;\n",
       "    }\n",
       "</style>\n",
       "<table border=\"1\" class=\"dataframe\">\n",
       "  <thead>\n",
       "    <tr style=\"text-align: right;\">\n",
       "      <th></th>\n",
       "      <th>Nama</th>\n",
       "      <th>Waktu</th>\n",
       "      <th>Rating</th>\n",
       "      <th>Review</th>\n",
       "      <th>CleanReview</th>\n",
       "    </tr>\n",
       "  </thead>\n",
       "  <tbody>\n",
       "    <tr>\n",
       "      <th>0</th>\n",
       "      <td>Sonia Soraya</td>\n",
       "      <td>3 minggu lalu</td>\n",
       "      <td>5 bintang</td>\n",
       "      <td>Bismillah tadi kita ke ke sana..  Pas masuk di...</td>\n",
       "      <td>bismilah tadi sana pas masuk suru cuci tangan ...</td>\n",
       "    </tr>\n",
       "    <tr>\n",
       "      <th>1</th>\n",
       "      <td>Andy Kristyagita</td>\n",
       "      <td>sebulan lalu</td>\n",
       "      <td>5 bintang</td>\n",
       "      <td>Walaupun sudah berulang kali ke sini semenjak ...</td>\n",
       "      <td>walaupun ulang kali sini semenjak kecil rasa b...</td>\n",
       "    </tr>\n",
       "    <tr>\n",
       "      <th>2</th>\n",
       "      <td>Edza Tamara</td>\n",
       "      <td>2 minggu lalu</td>\n",
       "      <td>5 bintang</td>\n",
       "      <td>Suasanan malam hari di lokawisata baturraden n...</td>\n",
       "      <td>suasanan malam hari lokawisata baturaden nih s...</td>\n",
       "    </tr>\n",
       "    <tr>\n",
       "      <th>3</th>\n",
       "      <td>Abrakadabra</td>\n",
       "      <td>seminggu lalu</td>\n",
       "      <td>5 bintang</td>\n",
       "      <td>Tempat nya sangat Bersih Dan rapih, butuh stam...</td>\n",
       "      <td>tempat sangat bersih rapih butuh stamina utama...</td>\n",
       "    </tr>\n",
       "    <tr>\n",
       "      <th>4</th>\n",
       "      <td>Riko Tampati</td>\n",
       "      <td>sebulan lalu</td>\n",
       "      <td>4 bintang</td>\n",
       "      <td>Masih masa lebaran, tiket masuk agak mahal 25r...</td>\n",
       "      <td>masa lebaran tiket masuk mahal rb sangat ramai...</td>\n",
       "    </tr>\n",
       "    <tr>\n",
       "      <th>...</th>\n",
       "      <td>...</td>\n",
       "      <td>...</td>\n",
       "      <td>...</td>\n",
       "      <td>...</td>\n",
       "      <td>...</td>\n",
       "    </tr>\n",
       "    <tr>\n",
       "      <th>285</th>\n",
       "      <td>bunda popon</td>\n",
       "      <td>3 bulan lalu</td>\n",
       "      <td>5 bintang</td>\n",
       "      <td>Paket komplit, murah meriah cocok untuk acara ...</td>\n",
       "      <td>paket komplit murah riah cocok acara keluarga</td>\n",
       "    </tr>\n",
       "    <tr>\n",
       "      <th>286</th>\n",
       "      <td>petruk</td>\n",
       "      <td>setahun lalu</td>\n",
       "      <td>5 bintang</td>\n",
       "      <td>Lokasi nya nyaman dan aman, banyak tempat untu...</td>\n",
       "      <td>lokasi nyaman aman banyak tempat berswaphoto b...</td>\n",
       "    </tr>\n",
       "    <tr>\n",
       "      <th>287</th>\n",
       "      <td>Eva Meliana</td>\n",
       "      <td>2 tahun lalu</td>\n",
       "      <td>5 bintang</td>\n",
       "      <td>Tempat nya bagus, sejuk, pemandian nya air nya...</td>\n",
       "      <td>tempat bagus sejuk mandi air dingin hangat fla...</td>\n",
       "    </tr>\n",
       "    <tr>\n",
       "      <th>288</th>\n",
       "      <td>Deandra Almerrafif W.T</td>\n",
       "      <td>sebulan lalu</td>\n",
       "      <td>5 bintang</td>\n",
       "      <td>View bagus,,, tiket murah, berenang free</td>\n",
       "      <td>view bagus tiket murah renang fre</td>\n",
       "    </tr>\n",
       "    <tr>\n",
       "      <th>289</th>\n",
       "      <td>agniya ridha</td>\n",
       "      <td>2 tahun lalu</td>\n",
       "      <td>5 bintang</td>\n",
       "      <td>Seneng banget bisa kesini, suasananya alam ban...</td>\n",
       "      <td>neng banget kesini suasana alam banget bukit s...</td>\n",
       "    </tr>\n",
       "  </tbody>\n",
       "</table>\n",
       "<p>290 rows × 5 columns</p>\n",
       "</div>"
      ],
      "text/plain": [
       "                       Nama          Waktu     Rating  \\\n",
       "0              Sonia Soraya  3 minggu lalu  5 bintang   \n",
       "1          Andy Kristyagita   sebulan lalu  5 bintang   \n",
       "2               Edza Tamara  2 minggu lalu  5 bintang   \n",
       "3               Abrakadabra  seminggu lalu  5 bintang   \n",
       "4              Riko Tampati   sebulan lalu  4 bintang   \n",
       "..                      ...            ...        ...   \n",
       "285             bunda popon   3 bulan lalu  5 bintang   \n",
       "286                  petruk   setahun lalu  5 bintang   \n",
       "287             Eva Meliana   2 tahun lalu  5 bintang   \n",
       "288  Deandra Almerrafif W.T   sebulan lalu  5 bintang   \n",
       "289            agniya ridha   2 tahun lalu  5 bintang   \n",
       "\n",
       "                                                Review  \\\n",
       "0    Bismillah tadi kita ke ke sana..  Pas masuk di...   \n",
       "1    Walaupun sudah berulang kali ke sini semenjak ...   \n",
       "2    Suasanan malam hari di lokawisata baturraden n...   \n",
       "3    Tempat nya sangat Bersih Dan rapih, butuh stam...   \n",
       "4    Masih masa lebaran, tiket masuk agak mahal 25r...   \n",
       "..                                                 ...   \n",
       "285  Paket komplit, murah meriah cocok untuk acara ...   \n",
       "286  Lokasi nya nyaman dan aman, banyak tempat untu...   \n",
       "287  Tempat nya bagus, sejuk, pemandian nya air nya...   \n",
       "288           View bagus,,, tiket murah, berenang free   \n",
       "289  Seneng banget bisa kesini, suasananya alam ban...   \n",
       "\n",
       "                                           CleanReview  \n",
       "0    bismilah tadi sana pas masuk suru cuci tangan ...  \n",
       "1    walaupun ulang kali sini semenjak kecil rasa b...  \n",
       "2    suasanan malam hari lokawisata baturaden nih s...  \n",
       "3    tempat sangat bersih rapih butuh stamina utama...  \n",
       "4    masa lebaran tiket masuk mahal rb sangat ramai...  \n",
       "..                                                 ...  \n",
       "285      paket komplit murah riah cocok acara keluarga  \n",
       "286  lokasi nyaman aman banyak tempat berswaphoto b...  \n",
       "287  tempat bagus sejuk mandi air dingin hangat fla...  \n",
       "288                  view bagus tiket murah renang fre  \n",
       "289  neng banget kesini suasana alam banget bukit s...  \n",
       "\n",
       "[290 rows x 5 columns]"
      ]
     },
     "execution_count": 3,
     "metadata": {},
     "output_type": "execute_result"
    }
   ],
   "source": [
    "data=pd.read_excel(\"hasilpreprocessing.xlsx\")\n",
    "data"
   ]
  },
  {
   "cell_type": "code",
   "execution_count": 4,
   "metadata": {
    "colab": {
     "base_uri": "https://localhost:8080/"
    },
    "id": "ZiDBanc-Cx_W",
    "outputId": "d48e1383-ab39-4cd3-b253-74d8750674a3"
   },
   "outputs": [
    {
     "data": {
      "text/plain": [
       "0      bismilah tadi sana pas masuk suru cuci tangan ...\n",
       "1      walaupun ulang kali sini semenjak kecil rasa b...\n",
       "2      suasanan malam hari lokawisata baturaden nih s...\n",
       "3      tempat sangat bersih rapih butuh stamina utama...\n",
       "4      masa lebaran tiket masuk mahal rb sangat ramai...\n",
       "                             ...                        \n",
       "285        paket komplit murah riah cocok acara keluarga\n",
       "286    lokasi nyaman aman banyak tempat berswaphoto b...\n",
       "287    tempat bagus sejuk mandi air dingin hangat fla...\n",
       "288                    view bagus tiket murah renang fre\n",
       "289    neng banget kesini suasana alam banget bukit s...\n",
       "Name: CleanReview, Length: 290, dtype: object"
      ]
     },
     "execution_count": 4,
     "metadata": {},
     "output_type": "execute_result"
    }
   ],
   "source": [
    "review=data['CleanReview']\n",
    "review"
   ]
  },
  {
   "cell_type": "markdown",
   "metadata": {
    "id": "a4yiK4X6Pcyj"
   },
   "source": [
    "### **Tokenizing**"
   ]
  },
  {
   "cell_type": "code",
   "execution_count": 5,
   "metadata": {
    "colab": {
     "base_uri": "https://localhost:8080/"
    },
    "id": "NGvG1qM7C0Xj",
    "outputId": "d736dbe2-5b10-4907-fa72-ed6cb310805f"
   },
   "outputs": [
    {
     "data": {
      "text/plain": [
       "0      [bismilah, tadi, sana, pas, masuk, suru, cuci,...\n",
       "1      [walaupun, ulang, kali, sini, semenjak, kecil,...\n",
       "2      [suasanan, malam, hari, lokawisata, baturaden,...\n",
       "3      [tempat, sangat, bersih, rapih, butuh, stamina...\n",
       "4      [masa, lebaran, tiket, masuk, mahal, rb, sanga...\n",
       "                             ...                        \n",
       "285    [paket, komplit, murah, riah, cocok, acara, ke...\n",
       "286    [lokasi, nyaman, aman, banyak, tempat, berswap...\n",
       "287    [tempat, bagus, sejuk, mandi, air, dingin, han...\n",
       "288             [view, bagus, tiket, murah, renang, fre]\n",
       "289    [neng, banget, kesini, suasana, alam, banget, ...\n",
       "Name: CleanReview, Length: 290, dtype: object"
      ]
     },
     "execution_count": 5,
     "metadata": {},
     "output_type": "execute_result"
    }
   ],
   "source": [
    "token_word =review.apply(word_tokenize)\n",
    "token_word"
   ]
  },
  {
   "cell_type": "code",
   "execution_count": 6,
   "metadata": {
    "colab": {
     "base_uri": "https://localhost:8080/"
    },
    "id": "zcIJkbuNC3_v",
    "outputId": "39d98c8e-0d13-425b-e359-b0c6042d8887"
   },
   "outputs": [
    {
     "name": "stdout",
     "output_type": "stream",
     "text": [
      "Requirement already satisfied: python-crfsuite in c:\\users\\user\\anaconda3\\lib\\site-packages (0.9.8)\n",
      "Note: you may need to restart the kernel to use updated packages.\n"
     ]
    }
   ],
   "source": [
    "pip install python-crfsuite"
   ]
  },
  {
   "cell_type": "code",
   "execution_count": 7,
   "metadata": {
    "colab": {
     "base_uri": "https://localhost:8080/"
    },
    "id": "uDWzRB65C88l",
    "outputId": "9d89513b-439c-496e-9dd9-db59267e126f",
    "scrolled": true
   },
   "outputs": [
    {
     "name": "stdout",
     "output_type": "stream",
     "text": [
      "Collecting sklearn-pycrfsuite\n",
      "  Using cached sklearn_pycrfsuite-0.4.0-py2.py3-none-any.whl\n",
      "Requirement already satisfied: tabulate in c:\\users\\user\\anaconda3\\lib\\site-packages (from sklearn-pycrfsuite) (0.9.0)\n",
      "Collecting python-crfsuite-extension\n",
      "  Using cached python-crfsuite-extension-0.9.7.tar.gz (485 kB)\n",
      "Requirement already satisfied: six in c:\\users\\user\\anaconda3\\lib\\site-packages (from sklearn-pycrfsuite) (1.16.0)\n",
      "Requirement already satisfied: tqdm>=2.0 in c:\\users\\user\\anaconda3\\lib\\site-packages (from sklearn-pycrfsuite) (4.62.3)\n",
      "Requirement already satisfied: colorama in c:\\users\\user\\anaconda3\\lib\\site-packages (from tqdm>=2.0->sklearn-pycrfsuite) (0.4.4)\n",
      "Building wheels for collected packages: python-crfsuite-extension\n",
      "  Building wheel for python-crfsuite-extension (setup.py): started\n",
      "  Building wheel for python-crfsuite-extension (setup.py): finished with status 'error'\n",
      "  Running setup.py clean for python-crfsuite-extension\n",
      "Failed to build python-crfsuite-extension\n",
      "Installing collected packages: python-crfsuite-extension, sklearn-pycrfsuite\n",
      "    Running setup.py install for python-crfsuite-extension: started\n",
      "    Running setup.py install for python-crfsuite-extension: finished with status 'error'\n",
      "Note: you may need to restart the kernel to use updated packages.\n"
     ]
    },
    {
     "name": "stderr",
     "output_type": "stream",
     "text": [
      "  ERROR: Command errored out with exit status 1:\n",
      "   command: 'C:\\Users\\USER\\anaconda3\\python.exe' -u -c 'import io, os, sys, setuptools, tokenize; sys.argv[0] = '\"'\"'C:\\\\Users\\\\USER\\\\AppData\\\\Local\\\\Temp\\\\pip-install-iioyoewc\\\\python-crfsuite-extension_4fe31c163da54acab023aa05f9c01c80\\\\setup.py'\"'\"'; __file__='\"'\"'C:\\\\Users\\\\USER\\\\AppData\\\\Local\\\\Temp\\\\pip-install-iioyoewc\\\\python-crfsuite-extension_4fe31c163da54acab023aa05f9c01c80\\\\setup.py'\"'\"';f = getattr(tokenize, '\"'\"'open'\"'\"', open)(__file__) if os.path.exists(__file__) else io.StringIO('\"'\"'from setuptools import setup; setup()'\"'\"');code = f.read().replace('\"'\"'\\r\\n'\"'\"', '\"'\"'\\n'\"'\"');f.close();exec(compile(code, __file__, '\"'\"'exec'\"'\"'))' bdist_wheel -d 'C:\\Users\\USER\\AppData\\Local\\Temp\\pip-wheel-l5v161f7'\n",
      "       cwd: C:\\Users\\USER\\AppData\\Local\\Temp\\pip-install-iioyoewc\\python-crfsuite-extension_4fe31c163da54acab023aa05f9c01c80\\\n",
      "  Complete output (12 lines):\n",
      "  running bdist_wheel\n",
      "  running build\n",
      "  running build_py\n",
      "  creating build\n",
      "  creating build\\lib.win-amd64-3.9\n",
      "  creating build\\lib.win-amd64-3.9\\pycrfsuite\n",
      "  copying pycrfsuite\\_dumpparser.py -> build\\lib.win-amd64-3.9\\pycrfsuite\n",
      "  copying pycrfsuite\\_logparser.py -> build\\lib.win-amd64-3.9\\pycrfsuite\n",
      "  copying pycrfsuite\\__init__.py -> build\\lib.win-amd64-3.9\\pycrfsuite\n",
      "  running build_ext\n",
      "  building 'pycrfsuite._pycrfsuite' extension\n",
      "  error: Microsoft Visual C++ 14.0 or greater is required. Get it with \"Microsoft C++ Build Tools\": https://visualstudio.microsoft.com/visual-cpp-build-tools/\n",
      "  ----------------------------------------\n",
      "  ERROR: Failed building wheel for python-crfsuite-extension\n",
      "    ERROR: Command errored out with exit status 1:\n",
      "     command: 'C:\\Users\\USER\\anaconda3\\python.exe' -u -c 'import io, os, sys, setuptools, tokenize; sys.argv[0] = '\"'\"'C:\\\\Users\\\\USER\\\\AppData\\\\Local\\\\Temp\\\\pip-install-iioyoewc\\\\python-crfsuite-extension_4fe31c163da54acab023aa05f9c01c80\\\\setup.py'\"'\"'; __file__='\"'\"'C:\\\\Users\\\\USER\\\\AppData\\\\Local\\\\Temp\\\\pip-install-iioyoewc\\\\python-crfsuite-extension_4fe31c163da54acab023aa05f9c01c80\\\\setup.py'\"'\"';f = getattr(tokenize, '\"'\"'open'\"'\"', open)(__file__) if os.path.exists(__file__) else io.StringIO('\"'\"'from setuptools import setup; setup()'\"'\"');code = f.read().replace('\"'\"'\\r\\n'\"'\"', '\"'\"'\\n'\"'\"');f.close();exec(compile(code, __file__, '\"'\"'exec'\"'\"'))' install --record 'C:\\Users\\USER\\AppData\\Local\\Temp\\pip-record-lj3o_yix\\install-record.txt' --single-version-externally-managed --compile --install-headers 'C:\\Users\\USER\\anaconda3\\Include\\python-crfsuite-extension'\n",
      "         cwd: C:\\Users\\USER\\AppData\\Local\\Temp\\pip-install-iioyoewc\\python-crfsuite-extension_4fe31c163da54acab023aa05f9c01c80\\\n",
      "    Complete output (12 lines):\n",
      "    running install\n",
      "    running build\n",
      "    running build_py\n",
      "    creating build\n",
      "    creating build\\lib.win-amd64-3.9\n",
      "    creating build\\lib.win-amd64-3.9\\pycrfsuite\n",
      "    copying pycrfsuite\\_dumpparser.py -> build\\lib.win-amd64-3.9\\pycrfsuite\n",
      "    copying pycrfsuite\\_logparser.py -> build\\lib.win-amd64-3.9\\pycrfsuite\n",
      "    copying pycrfsuite\\__init__.py -> build\\lib.win-amd64-3.9\\pycrfsuite\n",
      "    running build_ext\n",
      "    building 'pycrfsuite._pycrfsuite' extension\n",
      "    error: Microsoft Visual C++ 14.0 or greater is required. Get it with \"Microsoft C++ Build Tools\": https://visualstudio.microsoft.com/visual-cpp-build-tools/\n",
      "    ----------------------------------------\n",
      "ERROR: Command errored out with exit status 1: 'C:\\Users\\USER\\anaconda3\\python.exe' -u -c 'import io, os, sys, setuptools, tokenize; sys.argv[0] = '\"'\"'C:\\\\Users\\\\USER\\\\AppData\\\\Local\\\\Temp\\\\pip-install-iioyoewc\\\\python-crfsuite-extension_4fe31c163da54acab023aa05f9c01c80\\\\setup.py'\"'\"'; __file__='\"'\"'C:\\\\Users\\\\USER\\\\AppData\\\\Local\\\\Temp\\\\pip-install-iioyoewc\\\\python-crfsuite-extension_4fe31c163da54acab023aa05f9c01c80\\\\setup.py'\"'\"';f = getattr(tokenize, '\"'\"'open'\"'\"', open)(__file__) if os.path.exists(__file__) else io.StringIO('\"'\"'from setuptools import setup; setup()'\"'\"');code = f.read().replace('\"'\"'\\r\\n'\"'\"', '\"'\"'\\n'\"'\"');f.close();exec(compile(code, __file__, '\"'\"'exec'\"'\"'))' install --record 'C:\\Users\\USER\\AppData\\Local\\Temp\\pip-record-lj3o_yix\\install-record.txt' --single-version-externally-managed --compile --install-headers 'C:\\Users\\USER\\anaconda3\\Include\\python-crfsuite-extension' Check the logs for full command output.\n"
     ]
    }
   ],
   "source": [
    "pip install sklearn-pycrfsuite"
   ]
  },
  {
   "cell_type": "code",
   "execution_count": 8,
   "metadata": {
    "id": "3rXUblQeC9Xs"
   },
   "outputs": [],
   "source": [
    "import pycrfsuite"
   ]
  },
  {
   "cell_type": "markdown",
   "metadata": {
    "id": "C68ybRtMPphZ"
   },
   "source": [
    "### **POS TAGGING**"
   ]
  },
  {
   "cell_type": "code",
   "execution_count": 9,
   "metadata": {
    "id": "UQ-2n2RVDBQa"
   },
   "outputs": [
    {
     "ename": "FileNotFoundError",
     "evalue": "[Errno 2] No such file or directory: 'all_indo_man_tag_corpus_model.crf.tagger'",
     "output_type": "error",
     "traceback": [
      "\u001b[1;31m---------------------------------------------------------------------------\u001b[0m",
      "\u001b[1;31mFileNotFoundError\u001b[0m                         Traceback (most recent call last)",
      "\u001b[1;32m~\\AppData\\Local\\Temp/ipykernel_1776/2051568097.py\u001b[0m in \u001b[0;36m<module>\u001b[1;34m\u001b[0m\n\u001b[0;32m      1\u001b[0m \u001b[0mtag\u001b[0m \u001b[1;33m=\u001b[0m \u001b[0mCRFTagger\u001b[0m\u001b[1;33m(\u001b[0m\u001b[1;33m)\u001b[0m\u001b[1;33m\u001b[0m\u001b[1;33m\u001b[0m\u001b[0m\n\u001b[1;32m----> 2\u001b[1;33m \u001b[0mtag\u001b[0m\u001b[1;33m.\u001b[0m\u001b[0mset_model_file\u001b[0m\u001b[1;33m(\u001b[0m\u001b[1;34m'all_indo_man_tag_corpus_model.crf.tagger'\u001b[0m\u001b[1;33m)\u001b[0m\u001b[1;33m\u001b[0m\u001b[1;33m\u001b[0m\u001b[0m\n\u001b[0m",
      "\u001b[1;32m~\\anaconda3\\lib\\site-packages\\nltk\\tag\\crf.py\u001b[0m in \u001b[0;36mset_model_file\u001b[1;34m(self, model_file)\u001b[0m\n\u001b[0;32m     93\u001b[0m     \u001b[1;32mdef\u001b[0m \u001b[0mset_model_file\u001b[0m\u001b[1;33m(\u001b[0m\u001b[0mself\u001b[0m\u001b[1;33m,\u001b[0m \u001b[0mmodel_file\u001b[0m\u001b[1;33m)\u001b[0m\u001b[1;33m:\u001b[0m\u001b[1;33m\u001b[0m\u001b[1;33m\u001b[0m\u001b[0m\n\u001b[0;32m     94\u001b[0m         \u001b[0mself\u001b[0m\u001b[1;33m.\u001b[0m\u001b[0m_model_file\u001b[0m \u001b[1;33m=\u001b[0m \u001b[0mmodel_file\u001b[0m\u001b[1;33m\u001b[0m\u001b[1;33m\u001b[0m\u001b[0m\n\u001b[1;32m---> 95\u001b[1;33m         \u001b[0mself\u001b[0m\u001b[1;33m.\u001b[0m\u001b[0m_tagger\u001b[0m\u001b[1;33m.\u001b[0m\u001b[0mopen\u001b[0m\u001b[1;33m(\u001b[0m\u001b[0mself\u001b[0m\u001b[1;33m.\u001b[0m\u001b[0m_model_file\u001b[0m\u001b[1;33m)\u001b[0m\u001b[1;33m\u001b[0m\u001b[1;33m\u001b[0m\u001b[0m\n\u001b[0m\u001b[0;32m     96\u001b[0m \u001b[1;33m\u001b[0m\u001b[0m\n\u001b[0;32m     97\u001b[0m     \u001b[1;32mdef\u001b[0m \u001b[0m_get_features\u001b[0m\u001b[1;33m(\u001b[0m\u001b[0mself\u001b[0m\u001b[1;33m,\u001b[0m \u001b[0mtokens\u001b[0m\u001b[1;33m,\u001b[0m \u001b[0midx\u001b[0m\u001b[1;33m)\u001b[0m\u001b[1;33m:\u001b[0m\u001b[1;33m\u001b[0m\u001b[1;33m\u001b[0m\u001b[0m\n",
      "\u001b[1;32mpycrfsuite/_pycrfsuite.pyx\u001b[0m in \u001b[0;36mpycrfsuite._pycrfsuite.Tagger.open\u001b[1;34m()\u001b[0m\n",
      "\u001b[1;32mpycrfsuite/_pycrfsuite.pyx\u001b[0m in \u001b[0;36mpycrfsuite._pycrfsuite.Tagger._check_model\u001b[1;34m()\u001b[0m\n",
      "\u001b[1;31mFileNotFoundError\u001b[0m: [Errno 2] No such file or directory: 'all_indo_man_tag_corpus_model.crf.tagger'"
     ]
    }
   ],
   "source": [
    "tag = CRFTagger()\n",
    "tag.set_model_file('all_indo_man_tag_corpus_model.crf.tagger')"
   ]
  },
  {
   "cell_type": "code",
   "execution_count": null,
   "metadata": {
    "colab": {
     "base_uri": "https://localhost:8080/"
    },
    "id": "QsHfYBq_DK3h",
    "outputId": "b3747745-f057-45fe-db25-4fda3e4d6d86"
   },
   "outputs": [],
   "source": [
    "hasil_POS= tag.tag_sents(token_word)\n",
    "hasil_POS"
   ]
  },
  {
   "cell_type": "code",
   "execution_count": null,
   "metadata": {
    "colab": {
     "base_uri": "https://localhost:8080/"
    },
    "id": "lJfvMvfVLG8N",
    "outputId": "863c8d13-5126-41e9-8509-ec3f2447a7b0"
   },
   "outputs": [],
   "source": [
    "#mengubah nested list menjadi flat list\n",
    "flatList = [element for innerList in hasil_POS for element in innerList]\n",
    "flatList"
   ]
  },
  {
   "cell_type": "code",
   "execution_count": null,
   "metadata": {
    "colab": {
     "base_uri": "https://localhost:8080/"
    },
    "id": "LxQeSG9mDZ4V",
    "outputId": "a012b8c8-e795-4f51-a6e4-c89b4da53399"
   },
   "outputs": [],
   "source": [
    "import nltk\n",
    "nltk.download('averaged_perceptron_tagger')\n",
    "nltk.download('maxent_ne_chunker')\n",
    "nltk.download('words')"
   ]
  },
  {
   "cell_type": "markdown",
   "metadata": {
    "id": "CKHc0Q11P9YX"
   },
   "source": [
    "### **NER**"
   ]
  },
  {
   "cell_type": "code",
   "execution_count": null,
   "metadata": {
    "colab": {
     "base_uri": "https://localhost:8080/",
     "height": 423
    },
    "id": "MxjoyZ-4D2uh",
    "outputId": "56e0df10-d438-4400-d262-816cdcf6f152"
   },
   "outputs": [],
   "source": [
    "entities =[]\n",
    "labels =[]\n",
    "\n",
    "for i,j in flatList:\n",
    "  if i and j != None:\n",
    "    entities.append(i)\n",
    "    labels.append(j)\n",
    "        \n",
    "entities_labels = list(set(zip(entities, labels)))\n",
    "entities_df = pd.DataFrame(entities_labels)\n",
    "entities_df.columns = [\"Entities\",\"Labels\"]\n",
    "entities_df"
   ]
  },
  {
   "cell_type": "code",
   "execution_count": null,
   "metadata": {
    "id": "P2k7r80dD61N"
   },
   "outputs": [],
   "source": []
  }
 ],
 "metadata": {
  "colab": {
   "provenance": []
  },
  "kernelspec": {
   "display_name": "Python 3 (ipykernel)",
   "language": "python",
   "name": "python3"
  },
  "language_info": {
   "codemirror_mode": {
    "name": "ipython",
    "version": 3
   },
   "file_extension": ".py",
   "mimetype": "text/x-python",
   "name": "python",
   "nbconvert_exporter": "python",
   "pygments_lexer": "ipython3",
   "version": "3.9.7"
  }
 },
 "nbformat": 4,
 "nbformat_minor": 1
}
